{
 "cells": [
  {
   "cell_type": "markdown",
   "metadata": {},
   "source": [
    "### Note\n",
    "* Instructions have been included for each segment. You do not have to follow them exactly, but they are included to help you think through the steps."
   ]
  },
  {
   "cell_type": "code",
   "execution_count": 1,
   "metadata": {},
   "outputs": [],
   "source": [
    "# Dependencies and Setup\n",
    "import pandas as pd\n",
    "\n",
    "# File to Load (Remember to Change These)\n",
    "file_to_load = \"Resources/purchase_data.csv\"\n",
    "\n",
    "# Read Purchasing File and store into Pandas data frame\n",
    "purchase_data = pd.read_csv(file_to_load)"
   ]
  },
  {
   "cell_type": "code",
   "execution_count": 2,
   "metadata": {},
   "outputs": [],
   "source": [
    "DistPlayerSN = purchase_data['SN'].unique()"
   ]
  },
  {
   "cell_type": "code",
   "execution_count": 3,
   "metadata": {},
   "outputs": [],
   "source": [
    "totalPlayer_cnt = len(DistPlayerSN)"
   ]
  },
  {
   "cell_type": "code",
   "execution_count": 4,
   "metadata": {},
   "outputs": [],
   "source": [
    "DtotalPlayer = ({'Total Players':[totalPlayer_cnt]})"
   ]
  },
  {
   "cell_type": "code",
   "execution_count": 5,
   "metadata": {},
   "outputs": [],
   "source": [
    "ans_df = pd.DataFrame(DtotalPlayer)"
   ]
  },
  {
   "cell_type": "markdown",
   "metadata": {},
   "source": [
    "## Player Count"
   ]
  },
  {
   "cell_type": "markdown",
   "metadata": {},
   "source": [
    "* Display the total number of players\n"
   ]
  },
  {
   "cell_type": "code",
   "execution_count": 6,
   "metadata": {},
   "outputs": [
    {
     "data": {
      "text/html": [
       "<div>\n",
       "<style scoped>\n",
       "    .dataframe tbody tr th:only-of-type {\n",
       "        vertical-align: middle;\n",
       "    }\n",
       "\n",
       "    .dataframe tbody tr th {\n",
       "        vertical-align: top;\n",
       "    }\n",
       "\n",
       "    .dataframe thead th {\n",
       "        text-align: right;\n",
       "    }\n",
       "</style>\n",
       "<table border=\"1\" class=\"dataframe\">\n",
       "  <thead>\n",
       "    <tr style=\"text-align: right;\">\n",
       "      <th></th>\n",
       "      <th>Total Players</th>\n",
       "    </tr>\n",
       "  </thead>\n",
       "  <tbody>\n",
       "    <tr>\n",
       "      <th>0</th>\n",
       "      <td>576</td>\n",
       "    </tr>\n",
       "  </tbody>\n",
       "</table>\n",
       "</div>"
      ],
      "text/plain": [
       "   Total Players\n",
       "0            576"
      ]
     },
     "execution_count": 6,
     "metadata": {},
     "output_type": "execute_result"
    }
   ],
   "source": [
    "ans_df"
   ]
  },
  {
   "cell_type": "markdown",
   "metadata": {},
   "source": [
    "## Purchasing Analysis (Total)"
   ]
  },
  {
   "cell_type": "markdown",
   "metadata": {},
   "source": [
    "* Run basic calculations to obtain number of unique items, average price, etc.\n",
    "\n",
    "\n",
    "* Create a summary data frame to hold the results\n",
    "\n",
    "\n",
    "* Optional: give the displayed data cleaner formatting\n",
    "\n",
    "\n",
    "* Display the summary data frame\n"
   ]
  },
  {
   "cell_type": "code",
   "execution_count": 7,
   "metadata": {},
   "outputs": [
    {
     "data": {
      "text/html": [
       "<div>\n",
       "<style scoped>\n",
       "    .dataframe tbody tr th:only-of-type {\n",
       "        vertical-align: middle;\n",
       "    }\n",
       "\n",
       "    .dataframe tbody tr th {\n",
       "        vertical-align: top;\n",
       "    }\n",
       "\n",
       "    .dataframe thead th {\n",
       "        text-align: right;\n",
       "    }\n",
       "</style>\n",
       "<table border=\"1\" class=\"dataframe\">\n",
       "  <thead>\n",
       "    <tr style=\"text-align: right;\">\n",
       "      <th></th>\n",
       "      <th>Purchase ID</th>\n",
       "      <th>SN</th>\n",
       "      <th>Age</th>\n",
       "      <th>Gender</th>\n",
       "      <th>Item ID</th>\n",
       "      <th>Item Name</th>\n",
       "      <th>Price</th>\n",
       "    </tr>\n",
       "  </thead>\n",
       "  <tbody>\n",
       "    <tr>\n",
       "      <th>0</th>\n",
       "      <td>0</td>\n",
       "      <td>Lisim78</td>\n",
       "      <td>20</td>\n",
       "      <td>Male</td>\n",
       "      <td>108</td>\n",
       "      <td>Extraction, Quickblade Of Trembling Hands</td>\n",
       "      <td>3.53</td>\n",
       "    </tr>\n",
       "    <tr>\n",
       "      <th>1</th>\n",
       "      <td>1</td>\n",
       "      <td>Lisovynya38</td>\n",
       "      <td>40</td>\n",
       "      <td>Male</td>\n",
       "      <td>143</td>\n",
       "      <td>Frenzied Scimitar</td>\n",
       "      <td>1.56</td>\n",
       "    </tr>\n",
       "    <tr>\n",
       "      <th>2</th>\n",
       "      <td>2</td>\n",
       "      <td>Ithergue48</td>\n",
       "      <td>24</td>\n",
       "      <td>Male</td>\n",
       "      <td>92</td>\n",
       "      <td>Final Critic</td>\n",
       "      <td>4.88</td>\n",
       "    </tr>\n",
       "    <tr>\n",
       "      <th>3</th>\n",
       "      <td>3</td>\n",
       "      <td>Chamassasya86</td>\n",
       "      <td>24</td>\n",
       "      <td>Male</td>\n",
       "      <td>100</td>\n",
       "      <td>Blindscythe</td>\n",
       "      <td>3.27</td>\n",
       "    </tr>\n",
       "    <tr>\n",
       "      <th>4</th>\n",
       "      <td>4</td>\n",
       "      <td>Iskosia90</td>\n",
       "      <td>23</td>\n",
       "      <td>Male</td>\n",
       "      <td>131</td>\n",
       "      <td>Fury</td>\n",
       "      <td>1.44</td>\n",
       "    </tr>\n",
       "  </tbody>\n",
       "</table>\n",
       "</div>"
      ],
      "text/plain": [
       "   Purchase ID             SN  Age Gender  Item ID  \\\n",
       "0            0        Lisim78   20   Male      108   \n",
       "1            1    Lisovynya38   40   Male      143   \n",
       "2            2     Ithergue48   24   Male       92   \n",
       "3            3  Chamassasya86   24   Male      100   \n",
       "4            4      Iskosia90   23   Male      131   \n",
       "\n",
       "                                   Item Name  Price  \n",
       "0  Extraction, Quickblade Of Trembling Hands   3.53  \n",
       "1                          Frenzied Scimitar   1.56  \n",
       "2                               Final Critic   4.88  \n",
       "3                                Blindscythe   3.27  \n",
       "4                                       Fury   1.44  "
      ]
     },
     "execution_count": 7,
     "metadata": {},
     "output_type": "execute_result"
    }
   ],
   "source": [
    "purchase_data.head()"
   ]
  },
  {
   "cell_type": "code",
   "execution_count": 8,
   "metadata": {
    "scrolled": false
   },
   "outputs": [
    {
     "name": "stdout",
     "output_type": "stream",
     "text": [
      "179\n"
     ]
    }
   ],
   "source": [
    "#Unique Item Count:\n",
    "dist_item_cnt = len(purchase_data['Item ID'].unique())\n",
    "Item_cnt = dist_item_cnt\n",
    "print(Item_cnt)"
   ]
  },
  {
   "cell_type": "code",
   "execution_count": 9,
   "metadata": {},
   "outputs": [
    {
     "name": "stdout",
     "output_type": "stream",
     "text": [
      "$3.05\n"
     ]
    }
   ],
   "source": [
    "#Average Purchase Price\n",
    "AvgPrice = purchase_data['Price'].mean()\n",
    "strPrice_avg = '${:,.2f}'.format(AvgPrice)\n",
    "print(strPrice_avg)"
   ]
  },
  {
   "cell_type": "code",
   "execution_count": 10,
   "metadata": {},
   "outputs": [
    {
     "name": "stdout",
     "output_type": "stream",
     "text": [
      "780\n"
     ]
    }
   ],
   "source": [
    "#count of purchases\n",
    "Purchase_cnt = len(purchase_data)  #assumes each row in csv represents exactly one purchase\n",
    "print(Purchase_cnt)"
   ]
  },
  {
   "cell_type": "code",
   "execution_count": 11,
   "metadata": {},
   "outputs": [
    {
     "data": {
      "text/plain": [
       "780"
      ]
     },
     "execution_count": 11,
     "metadata": {},
     "output_type": "execute_result"
    }
   ],
   "source": [
    "#Curious if any purchase ID's are repeated (would indicate >1 item per purchase)\n",
    "len(purchase_data['Purchase ID'].unique())"
   ]
  },
  {
   "cell_type": "code",
   "execution_count": 12,
   "metadata": {},
   "outputs": [
    {
     "name": "stdout",
     "output_type": "stream",
     "text": [
      "$2,379.77\n"
     ]
    }
   ],
   "source": [
    "#Total Revenue\n",
    "TotalRevenue = purchase_data['Price'].sum()\n",
    "strRevenue_sum = '${:,.2f}'.format(TotalRevenue)\n",
    "print(strRevenue_sum)"
   ]
  },
  {
   "cell_type": "code",
   "execution_count": 13,
   "metadata": {},
   "outputs": [
    {
     "data": {
      "text/html": [
       "<div>\n",
       "<style scoped>\n",
       "    .dataframe tbody tr th:only-of-type {\n",
       "        vertical-align: middle;\n",
       "    }\n",
       "\n",
       "    .dataframe tbody tr th {\n",
       "        vertical-align: top;\n",
       "    }\n",
       "\n",
       "    .dataframe thead th {\n",
       "        text-align: right;\n",
       "    }\n",
       "</style>\n",
       "<table border=\"1\" class=\"dataframe\">\n",
       "  <thead>\n",
       "    <tr style=\"text-align: right;\">\n",
       "      <th></th>\n",
       "      <th>Unique Items</th>\n",
       "      <th>Average Purchase</th>\n",
       "      <th>Purchase Count</th>\n",
       "      <th>Total Revenue</th>\n",
       "    </tr>\n",
       "  </thead>\n",
       "  <tbody>\n",
       "    <tr>\n",
       "      <th>Value</th>\n",
       "      <td>179</td>\n",
       "      <td>$3.05</td>\n",
       "      <td>780</td>\n",
       "      <td>$2,379.77</td>\n",
       "    </tr>\n",
       "  </tbody>\n",
       "</table>\n",
       "</div>"
      ],
      "text/plain": [
       "       Unique Items Average Purchase  Purchase Count Total Revenue\n",
       "Value           179            $3.05             780     $2,379.77"
      ]
     },
     "execution_count": 13,
     "metadata": {},
     "output_type": "execute_result"
    }
   ],
   "source": [
    "dfPurchaseSummary = pd.DataFrame({\n",
    "                                  'Unique Items': Item_cnt, \n",
    "                                  'Average Purchase':strPrice_avg, \n",
    "                                  'Purchase Count':Purchase_cnt, \n",
    "                                  'Total Revenue':strRevenue_sum\n",
    "                                 }, \n",
    "                                 index=[\"Value\"])\n",
    "dfPurchaseSummary"
   ]
  },
  {
   "cell_type": "markdown",
   "metadata": {},
   "source": [
    "## Gender Demographics"
   ]
  },
  {
   "cell_type": "markdown",
   "metadata": {},
   "source": [
    "* Percentage and Count of Male Players\n",
    "\n",
    "\n",
    "* Percentage and Count of Female Players\n",
    "\n",
    "\n",
    "* Percentage and Count of Other / Non-Disclosed\n",
    "\n",
    "\n"
   ]
  },
  {
   "cell_type": "code",
   "execution_count": 14,
   "metadata": {},
   "outputs": [
    {
     "data": {
      "text/plain": [
       "True"
      ]
     },
     "execution_count": 14,
     "metadata": {},
     "output_type": "execute_result"
    }
   ],
   "source": [
    "#purchase_data.csv is at the purchase level, and one player (Identified by SN column) may have multiple purchases.\n",
    "#strategy: \n",
    "#ASSUMPTION: each SN has exactly one distinct Gender value.\n",
    "    # 1. create new dataframe with only SN and Gender columns.\n",
    "    # 2. Group by SN and return min of Gender. \n",
    "    \n",
    "    \n",
    "dfSNGender = purchase_data[['SN','Gender']].copy()\n",
    "dfSNG2 = dfSNGender.groupby('SN').max()\n",
    "len(dfSNG2) == totalPlayer_cnt #if True then the above ASSUMPTION is valid. \n",
    "                                #Not sure how to implement flow control such that error is raised when this is False.\n",
    "    "
   ]
  },
  {
   "cell_type": "code",
   "execution_count": 15,
   "metadata": {
    "scrolled": true
   },
   "outputs": [
    {
     "data": {
      "text/html": [
       "<div>\n",
       "<style scoped>\n",
       "    .dataframe tbody tr th:only-of-type {\n",
       "        vertical-align: middle;\n",
       "    }\n",
       "\n",
       "    .dataframe tbody tr th {\n",
       "        vertical-align: top;\n",
       "    }\n",
       "\n",
       "    .dataframe thead th {\n",
       "        text-align: right;\n",
       "    }\n",
       "</style>\n",
       "<table border=\"1\" class=\"dataframe\">\n",
       "  <thead>\n",
       "    <tr style=\"text-align: right;\">\n",
       "      <th></th>\n",
       "      <th>Count</th>\n",
       "      <th>PercentOfTotal</th>\n",
       "    </tr>\n",
       "  </thead>\n",
       "  <tbody>\n",
       "    <tr>\n",
       "      <th>Male</th>\n",
       "      <td>484</td>\n",
       "      <td>84.0%</td>\n",
       "    </tr>\n",
       "    <tr>\n",
       "      <th>Female</th>\n",
       "      <td>81</td>\n",
       "      <td>14.1%</td>\n",
       "    </tr>\n",
       "    <tr>\n",
       "      <th>Other / Non-Disclosed</th>\n",
       "      <td>11</td>\n",
       "      <td>1.9%</td>\n",
       "    </tr>\n",
       "  </tbody>\n",
       "</table>\n",
       "</div>"
      ],
      "text/plain": [
       "                       Count PercentOfTotal\n",
       "Male                     484          84.0%\n",
       "Female                    81          14.1%\n",
       "Other / Non-Disclosed     11           1.9%"
      ]
     },
     "execution_count": 15,
     "metadata": {},
     "output_type": "execute_result"
    }
   ],
   "source": [
    "#technique from: https://blog.softhints.com/pandas-count-percentage-value-column/\n",
    "#verified via: https://pandas.pydata.org/pandas-docs/stable/reference/api/pandas.Series.value_counts.html    \n",
    "    #both pages retrieved 2021-01-16\n",
    "\n",
    "s = dfSNG2.Gender\n",
    "counts = s.value_counts()\n",
    "percentage = s.value_counts(normalize=True).mul(100).round(1).astype(str) + '%'\n",
    "\n",
    "dfGender = pd.DataFrame({'Count':counts, 'PercentOfTotal':percentage})\n",
    "dfGender\n",
    "\n"
   ]
  },
  {
   "cell_type": "markdown",
   "metadata": {},
   "source": [
    "\n",
    "## Purchasing Analysis (Gender)"
   ]
  },
  {
   "cell_type": "markdown",
   "metadata": {},
   "source": [
    "* Run basic calculations to obtain:\n",
    "    * purchase count, \n",
    "    * avg. purchase price,\n",
    "    * Total Purchase Amt\n",
    "    * avg. purchase total per person \n",
    "           Above Broken out by Gender\n",
    "\n",
    "\n",
    "\n",
    "\n",
    "* Create a summary data frame to hold the results\n",
    "\n",
    "\n",
    "* Optional: give the displayed data cleaner formatting\n",
    "\n",
    "\n",
    "* Display the summary data frame"
   ]
  },
  {
   "cell_type": "code",
   "execution_count": 16,
   "metadata": {},
   "outputs": [
    {
     "name": "stderr",
     "output_type": "stream",
     "text": [
      "C:\\Users\\Test\\anaconda3\\lib\\site-packages\\pandas\\core\\reshape\\merge.py:618: UserWarning: merging between different levels can give an unintended result (2 levels on the left, 1 on the right)\n",
      "  warnings.warn(msg, UserWarning)\n",
      "C:\\Users\\Test\\anaconda3\\lib\\site-packages\\pandas\\core\\frame.py:4125: SettingWithCopyWarning: \n",
      "A value is trying to be set on a copy of a slice from a DataFrame\n",
      "\n",
      "See the caveats in the documentation: https://pandas.pydata.org/pandas-docs/stable/user_guide/indexing.html#returning-a-view-versus-a-copy\n",
      "  return super().rename(\n"
     ]
    },
    {
     "data": {
      "text/html": [
       "<div>\n",
       "<style scoped>\n",
       "    .dataframe tbody tr th:only-of-type {\n",
       "        vertical-align: middle;\n",
       "    }\n",
       "\n",
       "    .dataframe tbody tr th {\n",
       "        vertical-align: top;\n",
       "    }\n",
       "\n",
       "    .dataframe thead th {\n",
       "        text-align: right;\n",
       "    }\n",
       "</style>\n",
       "<table border=\"1\" class=\"dataframe\">\n",
       "  <thead>\n",
       "    <tr style=\"text-align: right;\">\n",
       "      <th></th>\n",
       "      <th>Purchase_Count</th>\n",
       "      <th>Total_Revenue</th>\n",
       "      <th>Avg_Purchase</th>\n",
       "      <th>Player_cnt</th>\n",
       "      <th>Avg_Revenue_per_Player</th>\n",
       "    </tr>\n",
       "    <tr>\n",
       "      <th>Gender</th>\n",
       "      <th></th>\n",
       "      <th></th>\n",
       "      <th></th>\n",
       "      <th></th>\n",
       "      <th></th>\n",
       "    </tr>\n",
       "  </thead>\n",
       "  <tbody>\n",
       "    <tr>\n",
       "      <th>Female</th>\n",
       "      <td>113</td>\n",
       "      <td>361.94</td>\n",
       "      <td>3.203009</td>\n",
       "      <td>81</td>\n",
       "      <td>4.468395</td>\n",
       "    </tr>\n",
       "    <tr>\n",
       "      <th>Male</th>\n",
       "      <td>652</td>\n",
       "      <td>1967.64</td>\n",
       "      <td>3.017853</td>\n",
       "      <td>484</td>\n",
       "      <td>4.065372</td>\n",
       "    </tr>\n",
       "    <tr>\n",
       "      <th>Other / Non-Disclosed</th>\n",
       "      <td>15</td>\n",
       "      <td>50.19</td>\n",
       "      <td>3.346000</td>\n",
       "      <td>11</td>\n",
       "      <td>4.562727</td>\n",
       "    </tr>\n",
       "  </tbody>\n",
       "</table>\n",
       "</div>"
      ],
      "text/plain": [
       "                       Purchase_Count  Total_Revenue  Avg_Purchase  \\\n",
       "Gender                                                               \n",
       "Female                            113         361.94      3.203009   \n",
       "Male                              652        1967.64      3.017853   \n",
       "Other / Non-Disclosed              15          50.19      3.346000   \n",
       "\n",
       "                       Player_cnt  Avg_Revenue_per_Player  \n",
       "Gender                                                     \n",
       "Female                         81                4.468395  \n",
       "Male                          484                4.065372  \n",
       "Other / Non-Disclosed          11                4.562727  "
      ]
     },
     "execution_count": 16,
     "metadata": {},
     "output_type": "execute_result"
    }
   ],
   "source": [
    "#Will Need only Gender, Price columns. Throwing in SN as a field to run count against\n",
    "dfPurchaseByGender = purchase_data[['Gender','SN','Price']].copy()\n",
    "\n",
    "#Strategy: \n",
    "    #Get purchase count as count of SN; avg purchase as mean of price; total purchase amt as sum of price\n",
    "group = dfPurchaseByGender.groupby(['Gender'])\n",
    "dfByGender = group.agg({'SN':['count'],'Price':['sum','mean']})\n",
    "\n",
    "    #Append counts series from above step\n",
    "dfAppended = dfByGender.join(dfGender)\n",
    "dfAppended.columns\n",
    "\n",
    "#drop unneccesary pct of total column\n",
    "columns_to_keep = [('SN', 'count'), ('Price', 'sum'), ('Price', 'mean'), 'Count']\n",
    "\n",
    "dfDropped = dfAppended[columns_to_keep]\n",
    "\n",
    "    #rename columns to make them more meaningful\n",
    "dfDropped.rename(columns = {('SN', 'count'):\"Purchase_Count\",\n",
    "                            ('Price', 'sum'):'Total_Revenue',\n",
    "                            ('Price', 'mean'):'Avg_Purchase',\n",
    "                            'Count':'Player_cnt'\n",
    "                           }, inplace=True)\n",
    "    #Calculate Average Price per person\n",
    "dfDropped['Avg_Revenue_per_Player'] = dfDropped.Total_Revenue/dfDropped.Player_cnt\n",
    "dfDropped\n"
   ]
  },
  {
   "cell_type": "markdown",
   "metadata": {},
   "source": [
    "## Age Demographics"
   ]
  },
  {
   "cell_type": "markdown",
   "metadata": {},
   "source": [
    "* Establish bins for ages\n",
    "\n",
    "\n",
    "* Categorize the existing players using the age bins. Hint: use pd.cut()\n",
    "\n",
    "\n",
    "* Calculate the numbers and percentages by age group\n",
    "\n",
    "\n",
    "* Create a summary data frame to hold the results\n",
    "\n",
    "\n",
    "* Optional: round the percentage column to two decimal points\n",
    "\n",
    "\n",
    "* Display Age Demographics Table\n"
   ]
  },
  {
   "cell_type": "code",
   "execution_count": 17,
   "metadata": {},
   "outputs": [
    {
     "data": {
      "text/html": [
       "<div>\n",
       "<style scoped>\n",
       "    .dataframe tbody tr th:only-of-type {\n",
       "        vertical-align: middle;\n",
       "    }\n",
       "\n",
       "    .dataframe tbody tr th {\n",
       "        vertical-align: top;\n",
       "    }\n",
       "\n",
       "    .dataframe thead th {\n",
       "        text-align: right;\n",
       "    }\n",
       "</style>\n",
       "<table border=\"1\" class=\"dataframe\">\n",
       "  <thead>\n",
       "    <tr style=\"text-align: right;\">\n",
       "      <th></th>\n",
       "      <th>Player_cnt</th>\n",
       "      <th>Percent of Total</th>\n",
       "    </tr>\n",
       "    <tr>\n",
       "      <th>Age_Bin</th>\n",
       "      <th></th>\n",
       "      <th></th>\n",
       "    </tr>\n",
       "  </thead>\n",
       "  <tbody>\n",
       "    <tr>\n",
       "      <th>(0, 10]</th>\n",
       "      <td>24</td>\n",
       "      <td>4.17%</td>\n",
       "    </tr>\n",
       "    <tr>\n",
       "      <th>(10, 15]</th>\n",
       "      <td>41</td>\n",
       "      <td>7.12%</td>\n",
       "    </tr>\n",
       "    <tr>\n",
       "      <th>(15, 20]</th>\n",
       "      <td>150</td>\n",
       "      <td>26.04%</td>\n",
       "    </tr>\n",
       "    <tr>\n",
       "      <th>(20, 25]</th>\n",
       "      <td>232</td>\n",
       "      <td>40.28%</td>\n",
       "    </tr>\n",
       "    <tr>\n",
       "      <th>(25, 30]</th>\n",
       "      <td>59</td>\n",
       "      <td>10.24%</td>\n",
       "    </tr>\n",
       "    <tr>\n",
       "      <th>(30, 35]</th>\n",
       "      <td>37</td>\n",
       "      <td>6.42%</td>\n",
       "    </tr>\n",
       "    <tr>\n",
       "      <th>(35, 40]</th>\n",
       "      <td>26</td>\n",
       "      <td>4.51%</td>\n",
       "    </tr>\n",
       "    <tr>\n",
       "      <th>(40, 45]</th>\n",
       "      <td>7</td>\n",
       "      <td>1.22%</td>\n",
       "    </tr>\n",
       "  </tbody>\n",
       "</table>\n",
       "</div>"
      ],
      "text/plain": [
       "          Player_cnt Percent of Total\n",
       "Age_Bin                              \n",
       "(0, 10]           24            4.17%\n",
       "(10, 15]          41            7.12%\n",
       "(15, 20]         150           26.04%\n",
       "(20, 25]         232           40.28%\n",
       "(25, 30]          59           10.24%\n",
       "(30, 35]          37            6.42%\n",
       "(35, 40]          26            4.51%\n",
       "(40, 45]           7            1.22%"
      ]
     },
     "execution_count": 17,
     "metadata": {},
     "output_type": "execute_result"
    }
   ],
   "source": [
    "columns_to_keep = ['SN','Age']\n",
    "\n",
    "df1 = purchase_data[columns_to_keep]\n",
    "dfSN_Age = df1.groupby('SN').max()\n",
    "\n",
    "Bins = [0,10,15,20,25,30,35,40,purchase_data['Age'].max()]\n",
    "\n",
    "dfSN_Age['Age_Bin'] = pd.cut(dfSN_Age['Age'], Bins)\n",
    "\n",
    "dfAgeBinned = dfSN_Age.groupby('Age_Bin').count()\n",
    "\n",
    "dfPlayersByAge = dfAgeBinned.rename(columns = {'Age':'Player_cnt'})\n",
    "\n",
    "dfPlayersByAge['Percent of Total'] = round(dfPlayersByAge['Player_cnt']/totalPlayer_cnt*100,2).astype(str) + '%'\n",
    "\n",
    "dfPlayersByAge"
   ]
  },
  {
   "cell_type": "markdown",
   "metadata": {},
   "source": [
    "## Purchasing Analysis (Age)"
   ]
  },
  {
   "cell_type": "markdown",
   "metadata": {},
   "source": [
    "* Bin the purchase_data data frame by age\n",
    "\n",
    "\n",
    "* Run basic calculations to obtain purchase count, avg. purchase price, avg. purchase total per person etc. in the table below\n",
    "\n",
    "\n",
    "* Create a summary data frame to hold the results\n",
    "\n",
    "\n",
    "* Optional: give the displayed data cleaner formatting\n",
    "\n",
    "\n",
    "* Display the summary data frame"
   ]
  },
  {
   "cell_type": "code",
   "execution_count": 18,
   "metadata": {},
   "outputs": [
    {
     "data": {
      "text/html": [
       "<div>\n",
       "<style scoped>\n",
       "    .dataframe tbody tr th:only-of-type {\n",
       "        vertical-align: middle;\n",
       "    }\n",
       "\n",
       "    .dataframe tbody tr th {\n",
       "        vertical-align: top;\n",
       "    }\n",
       "\n",
       "    .dataframe thead th {\n",
       "        text-align: right;\n",
       "    }\n",
       "</style>\n",
       "<table border=\"1\" class=\"dataframe\">\n",
       "  <thead>\n",
       "    <tr style=\"text-align: right;\">\n",
       "      <th></th>\n",
       "      <th>Purchase_Cnt</th>\n",
       "      <th>Total_Revenue</th>\n",
       "      <th>Avg_Purchase</th>\n",
       "      <th>Player_Cnt</th>\n",
       "      <th>Avg_Revenue_per_Player</th>\n",
       "    </tr>\n",
       "    <tr>\n",
       "      <th>Age_Bin</th>\n",
       "      <th></th>\n",
       "      <th></th>\n",
       "      <th></th>\n",
       "      <th></th>\n",
       "      <th></th>\n",
       "    </tr>\n",
       "  </thead>\n",
       "  <tbody>\n",
       "    <tr>\n",
       "      <th>(0, 10]</th>\n",
       "      <td>32</td>\n",
       "      <td>108.96</td>\n",
       "      <td>3.40</td>\n",
       "      <td>24</td>\n",
       "      <td>4.54</td>\n",
       "    </tr>\n",
       "    <tr>\n",
       "      <th>(10, 15]</th>\n",
       "      <td>54</td>\n",
       "      <td>156.60</td>\n",
       "      <td>2.90</td>\n",
       "      <td>41</td>\n",
       "      <td>3.82</td>\n",
       "    </tr>\n",
       "    <tr>\n",
       "      <th>(15, 20]</th>\n",
       "      <td>200</td>\n",
       "      <td>621.56</td>\n",
       "      <td>3.11</td>\n",
       "      <td>150</td>\n",
       "      <td>4.14</td>\n",
       "    </tr>\n",
       "    <tr>\n",
       "      <th>(20, 25]</th>\n",
       "      <td>325</td>\n",
       "      <td>981.64</td>\n",
       "      <td>3.02</td>\n",
       "      <td>232</td>\n",
       "      <td>4.23</td>\n",
       "    </tr>\n",
       "    <tr>\n",
       "      <th>(25, 30]</th>\n",
       "      <td>77</td>\n",
       "      <td>221.42</td>\n",
       "      <td>2.88</td>\n",
       "      <td>59</td>\n",
       "      <td>3.75</td>\n",
       "    </tr>\n",
       "    <tr>\n",
       "      <th>(30, 35]</th>\n",
       "      <td>52</td>\n",
       "      <td>155.71</td>\n",
       "      <td>2.99</td>\n",
       "      <td>37</td>\n",
       "      <td>4.21</td>\n",
       "    </tr>\n",
       "    <tr>\n",
       "      <th>(35, 40]</th>\n",
       "      <td>33</td>\n",
       "      <td>112.35</td>\n",
       "      <td>3.40</td>\n",
       "      <td>26</td>\n",
       "      <td>4.32</td>\n",
       "    </tr>\n",
       "    <tr>\n",
       "      <th>(40, 45]</th>\n",
       "      <td>7</td>\n",
       "      <td>21.53</td>\n",
       "      <td>3.08</td>\n",
       "      <td>7</td>\n",
       "      <td>3.08</td>\n",
       "    </tr>\n",
       "  </tbody>\n",
       "</table>\n",
       "</div>"
      ],
      "text/plain": [
       "          Purchase_Cnt  Total_Revenue  Avg_Purchase  Player_Cnt  \\\n",
       "Age_Bin                                                           \n",
       "(0, 10]             32         108.96          3.40          24   \n",
       "(10, 15]            54         156.60          2.90          41   \n",
       "(15, 20]           200         621.56          3.11         150   \n",
       "(20, 25]           325         981.64          3.02         232   \n",
       "(25, 30]            77         221.42          2.88          59   \n",
       "(30, 35]            52         155.71          2.99          37   \n",
       "(35, 40]            33         112.35          3.40          26   \n",
       "(40, 45]             7          21.53          3.08           7   \n",
       "\n",
       "          Avg_Revenue_per_Player  \n",
       "Age_Bin                           \n",
       "(0, 10]                     4.54  \n",
       "(10, 15]                    3.82  \n",
       "(15, 20]                    4.14  \n",
       "(20, 25]                    4.23  \n",
       "(25, 30]                    3.75  \n",
       "(30, 35]                    4.21  \n",
       "(35, 40]                    4.32  \n",
       "(40, 45]                    3.08  "
      ]
     },
     "execution_count": 18,
     "metadata": {},
     "output_type": "execute_result"
    }
   ],
   "source": [
    "#Create a copy of the dataframe with abbreviated name\n",
    "df = purchase_data\n",
    "\n",
    "#Use same bins as those in Age Demographics section\n",
    "df['Age_Bin'] = pd.cut(df['Age'], Bins)\n",
    "\n",
    "#Establish Group By \n",
    "grp_Bin = df.groupby('Age_Bin')\n",
    "\n",
    "\n",
    "#Aggregate\n",
    "dfByAge1 = grp_Bin.agg({'SN':['count'],'Price':['sum']})\n",
    "\n",
    "#Pretty up the column names\n",
    "dfByAge1.columns = dfByAge1.columns.to_series().apply(''.join)\n",
    "dfByAge2 = dfByAge1.rename(columns = {'SNcount':  'Purchase_Cnt'\n",
    "                                     ,'Pricesum': 'Total_Revenue'   \n",
    "                                     })\n",
    "#Calculate Avg Purchase column\n",
    "dfByAge2['Avg_Purchase'] = round(dfByAge2['Total_Revenue']/dfByAge2['Purchase_Cnt'],2)\n",
    "\n",
    "#Bring in player counts\n",
    "df3 = dfByAge2.join(dfAgeBinned)\n",
    "df4 = df3.rename(columns={'Age':'Player_Cnt'})\n",
    "\n",
    "#Calculate Avg Revenue per Player column\n",
    "df4['Avg_Revenue_per_Player'] = round(df4['Total_Revenue']/df4['Player_Cnt'],2)\n",
    "\n",
    "df4"
   ]
  },
  {
   "cell_type": "markdown",
   "metadata": {},
   "source": [
    "## Top Spenders"
   ]
  },
  {
   "cell_type": "markdown",
   "metadata": {},
   "source": [
    "* Run basic calculations to obtain the results in the table below\n",
    "\n",
    "\n",
    "* Create a summary data frame to hold the results\n",
    "\n",
    "\n",
    "* Sort the total purchase value column in descending order\n",
    "\n",
    "\n",
    "* Optional: give the displayed data cleaner formatting\n",
    "\n",
    "\n",
    "* Display a preview of the summary data frame\n",
    "\n"
   ]
  },
  {
   "cell_type": "code",
   "execution_count": 19,
   "metadata": {},
   "outputs": [
    {
     "data": {
      "text/html": [
       "<div>\n",
       "<style scoped>\n",
       "    .dataframe tbody tr th:only-of-type {\n",
       "        vertical-align: middle;\n",
       "    }\n",
       "\n",
       "    .dataframe tbody tr th {\n",
       "        vertical-align: top;\n",
       "    }\n",
       "\n",
       "    .dataframe thead th {\n",
       "        text-align: right;\n",
       "    }\n",
       "</style>\n",
       "<table border=\"1\" class=\"dataframe\">\n",
       "  <thead>\n",
       "    <tr style=\"text-align: right;\">\n",
       "      <th></th>\n",
       "      <th>Purchase_Cnt</th>\n",
       "      <th>Total_Revenue</th>\n",
       "      <th>Avg_Purchase</th>\n",
       "    </tr>\n",
       "    <tr>\n",
       "      <th>SN</th>\n",
       "      <th></th>\n",
       "      <th></th>\n",
       "      <th></th>\n",
       "    </tr>\n",
       "  </thead>\n",
       "  <tbody>\n",
       "    <tr>\n",
       "      <th>Lisosia93</th>\n",
       "      <td>5</td>\n",
       "      <td>18.96</td>\n",
       "      <td>3.79</td>\n",
       "    </tr>\n",
       "    <tr>\n",
       "      <th>Idastidru52</th>\n",
       "      <td>4</td>\n",
       "      <td>15.45</td>\n",
       "      <td>3.86</td>\n",
       "    </tr>\n",
       "    <tr>\n",
       "      <th>Chamjask73</th>\n",
       "      <td>3</td>\n",
       "      <td>13.83</td>\n",
       "      <td>4.61</td>\n",
       "    </tr>\n",
       "    <tr>\n",
       "      <th>Iral74</th>\n",
       "      <td>4</td>\n",
       "      <td>13.62</td>\n",
       "      <td>3.40</td>\n",
       "    </tr>\n",
       "    <tr>\n",
       "      <th>Iskadarya95</th>\n",
       "      <td>3</td>\n",
       "      <td>13.10</td>\n",
       "      <td>4.37</td>\n",
       "    </tr>\n",
       "  </tbody>\n",
       "</table>\n",
       "</div>"
      ],
      "text/plain": [
       "             Purchase_Cnt  Total_Revenue  Avg_Purchase\n",
       "SN                                                    \n",
       "Lisosia93               5          18.96          3.79\n",
       "Idastidru52             4          15.45          3.86\n",
       "Chamjask73              3          13.83          4.61\n",
       "Iral74                  4          13.62          3.40\n",
       "Iskadarya95             3          13.10          4.37"
      ]
     },
     "execution_count": 19,
     "metadata": {},
     "output_type": "execute_result"
    }
   ],
   "source": [
    "#Calculate purchase counts and total revenue\n",
    "df_TopSpend = df.groupby('SN').agg({'Item ID':['count']\n",
    "                                    ,'Price':['sum']\n",
    "                                   })\n",
    "#Pretty up the column names\n",
    "df_TopSpend.columns = df_TopSpend.columns.to_series().apply(''.join)\n",
    "df_Top_Rnm = df_TopSpend.rename(columns = {'Item IDcount':  'Purchase_Cnt',\n",
    "                                     'Pricesum': 'Total_Revenue'   \n",
    "                                     })\n",
    "\n",
    "#Add calculated column for Avg_Purchase\n",
    "df_Top_Rnm['Avg_Purchase']= round(df_Top_Rnm['Total_Revenue']/df_Top_Rnm['Purchase_Cnt'],2)\n",
    "\n",
    "#Sort by Total_Revenue descending\n",
    "df_Top_Rnm.sort_values(by=['Total_Revenue'],ascending = False).head(5)"
   ]
  },
  {
   "cell_type": "markdown",
   "metadata": {},
   "source": [
    "## Most Popular Items"
   ]
  },
  {
   "cell_type": "markdown",
   "metadata": {},
   "source": [
    "* Retrieve the Item ID, Item Name, and Item Price columns\n",
    "\n",
    "\n",
    "* Group by Item ID and Item Name. Perform calculations to obtain purchase count, average item price, and total purchase value\n",
    "\n",
    "\n",
    "* Create a summary data frame to hold the results\n",
    "\n",
    "\n",
    "* Sort the purchase count column in descending order\n",
    "\n",
    "\n",
    "* Optional: give the displayed data cleaner formatting\n",
    "\n",
    "\n",
    "* Display a preview of the summary data frame\n",
    "\n"
   ]
  },
  {
   "cell_type": "code",
   "execution_count": 20,
   "metadata": {},
   "outputs": [
    {
     "data": {
      "text/html": [
       "<div>\n",
       "<style scoped>\n",
       "    .dataframe tbody tr th:only-of-type {\n",
       "        vertical-align: middle;\n",
       "    }\n",
       "\n",
       "    .dataframe tbody tr th {\n",
       "        vertical-align: top;\n",
       "    }\n",
       "\n",
       "    .dataframe thead th {\n",
       "        text-align: right;\n",
       "    }\n",
       "</style>\n",
       "<table border=\"1\" class=\"dataframe\">\n",
       "  <thead>\n",
       "    <tr style=\"text-align: right;\">\n",
       "      <th></th>\n",
       "      <th></th>\n",
       "      <th>Purchase_Cnt</th>\n",
       "      <th>Total_Revenue</th>\n",
       "      <th>Avg_Price</th>\n",
       "    </tr>\n",
       "    <tr>\n",
       "      <th>Item ID</th>\n",
       "      <th>Item Name</th>\n",
       "      <th></th>\n",
       "      <th></th>\n",
       "      <th></th>\n",
       "    </tr>\n",
       "  </thead>\n",
       "  <tbody>\n",
       "    <tr>\n",
       "      <th>92</th>\n",
       "      <th>Final Critic</th>\n",
       "      <td>13</td>\n",
       "      <td>59.99</td>\n",
       "      <td>4.61</td>\n",
       "    </tr>\n",
       "    <tr>\n",
       "      <th>178</th>\n",
       "      <th>Oathbreaker, Last Hope of the Breaking Storm</th>\n",
       "      <td>12</td>\n",
       "      <td>50.76</td>\n",
       "      <td>4.23</td>\n",
       "    </tr>\n",
       "    <tr>\n",
       "      <th>82</th>\n",
       "      <th>Nirvana</th>\n",
       "      <td>9</td>\n",
       "      <td>44.10</td>\n",
       "      <td>4.90</td>\n",
       "    </tr>\n",
       "    <tr>\n",
       "      <th>145</th>\n",
       "      <th>Fiery Glass Crusader</th>\n",
       "      <td>9</td>\n",
       "      <td>41.22</td>\n",
       "      <td>4.58</td>\n",
       "    </tr>\n",
       "    <tr>\n",
       "      <th>103</th>\n",
       "      <th>Singed Scalpel</th>\n",
       "      <td>8</td>\n",
       "      <td>34.80</td>\n",
       "      <td>4.35</td>\n",
       "    </tr>\n",
       "  </tbody>\n",
       "</table>\n",
       "</div>"
      ],
      "text/plain": [
       "                                                      Purchase_Cnt  \\\n",
       "Item ID Item Name                                                    \n",
       "92      Final Critic                                            13   \n",
       "178     Oathbreaker, Last Hope of the Breaking Storm            12   \n",
       "82      Nirvana                                                  9   \n",
       "145     Fiery Glass Crusader                                     9   \n",
       "103     Singed Scalpel                                           8   \n",
       "\n",
       "                                                      Total_Revenue  Avg_Price  \n",
       "Item ID Item Name                                                               \n",
       "92      Final Critic                                          59.99       4.61  \n",
       "178     Oathbreaker, Last Hope of the Breaking Storm          50.76       4.23  \n",
       "82      Nirvana                                               44.10       4.90  \n",
       "145     Fiery Glass Crusader                                  41.22       4.58  \n",
       "103     Singed Scalpel                                        34.80       4.35  "
      ]
     },
     "execution_count": 20,
     "metadata": {},
     "output_type": "execute_result"
    }
   ],
   "source": [
    "#Rerieve Columns\n",
    "columns_to_keep = ['Item ID','Item Name','SN','Price']\n",
    "\n",
    "df1 = df[columns_to_keep]\n",
    "df1.head()\n",
    "\n",
    "#Group by Item ID, Item Name\n",
    "groups = df1.groupby(['Item ID','Item Name'])\n",
    "\n",
    "#Calc aggregate stats\n",
    "df2 = groups.agg({'SN':'count'\n",
    "                  ,'Price':'sum'\n",
    "    \n",
    "                  })\n",
    "#Pretty up the column names\n",
    "df2.columns = df2.columns.to_series().apply(''.join)\n",
    "df3 = df2.rename(columns = {'SN':'Purchase_Cnt','Price':'Total_Revenue'})\n",
    "\n",
    "#Sort by Item_Cnt & display top 5\n",
    "df4 = df3.sort_values(by=['Total_Revenue'],ascending = False)\n",
    "df4['Avg_Price'] = round(df4['Total_Revenue']/df4['Purchase_Cnt'],2)\n",
    "df4.head(5)"
   ]
  },
  {
   "cell_type": "markdown",
   "metadata": {},
   "source": [
    "## Most Profitable Items"
   ]
  },
  {
   "cell_type": "markdown",
   "metadata": {},
   "source": [
    "* Sort the above table by total purchase value in descending order\n",
    "\n",
    "\n",
    "* Optional: give the displayed data cleaner formatting\n",
    "\n",
    "\n",
    "* Display a preview of the data frame\n",
    "\n"
   ]
  },
  {
   "cell_type": "code",
   "execution_count": 21,
   "metadata": {
    "scrolled": true
   },
   "outputs": [
    {
     "data": {
      "text/html": [
       "<div>\n",
       "<style scoped>\n",
       "    .dataframe tbody tr th:only-of-type {\n",
       "        vertical-align: middle;\n",
       "    }\n",
       "\n",
       "    .dataframe tbody tr th {\n",
       "        vertical-align: top;\n",
       "    }\n",
       "\n",
       "    .dataframe thead th {\n",
       "        text-align: right;\n",
       "    }\n",
       "</style>\n",
       "<table border=\"1\" class=\"dataframe\">\n",
       "  <thead>\n",
       "    <tr style=\"text-align: right;\">\n",
       "      <th></th>\n",
       "      <th></th>\n",
       "      <th>Purchase_Cnt</th>\n",
       "      <th>Total_Revenue</th>\n",
       "      <th>Avg_Price</th>\n",
       "    </tr>\n",
       "    <tr>\n",
       "      <th>Item ID</th>\n",
       "      <th>Item Name</th>\n",
       "      <th></th>\n",
       "      <th></th>\n",
       "      <th></th>\n",
       "    </tr>\n",
       "  </thead>\n",
       "  <tbody>\n",
       "    <tr>\n",
       "      <th>92</th>\n",
       "      <th>Final Critic</th>\n",
       "      <td>13</td>\n",
       "      <td>59.99</td>\n",
       "      <td>4.61</td>\n",
       "    </tr>\n",
       "    <tr>\n",
       "      <th>178</th>\n",
       "      <th>Oathbreaker, Last Hope of the Breaking Storm</th>\n",
       "      <td>12</td>\n",
       "      <td>50.76</td>\n",
       "      <td>4.23</td>\n",
       "    </tr>\n",
       "    <tr>\n",
       "      <th>82</th>\n",
       "      <th>Nirvana</th>\n",
       "      <td>9</td>\n",
       "      <td>44.10</td>\n",
       "      <td>4.90</td>\n",
       "    </tr>\n",
       "    <tr>\n",
       "      <th>145</th>\n",
       "      <th>Fiery Glass Crusader</th>\n",
       "      <td>9</td>\n",
       "      <td>41.22</td>\n",
       "      <td>4.58</td>\n",
       "    </tr>\n",
       "    <tr>\n",
       "      <th>103</th>\n",
       "      <th>Singed Scalpel</th>\n",
       "      <td>8</td>\n",
       "      <td>34.80</td>\n",
       "      <td>4.35</td>\n",
       "    </tr>\n",
       "  </tbody>\n",
       "</table>\n",
       "</div>"
      ],
      "text/plain": [
       "                                                      Purchase_Cnt  \\\n",
       "Item ID Item Name                                                    \n",
       "92      Final Critic                                            13   \n",
       "178     Oathbreaker, Last Hope of the Breaking Storm            12   \n",
       "82      Nirvana                                                  9   \n",
       "145     Fiery Glass Crusader                                     9   \n",
       "103     Singed Scalpel                                           8   \n",
       "\n",
       "                                                      Total_Revenue  Avg_Price  \n",
       "Item ID Item Name                                                               \n",
       "92      Final Critic                                          59.99       4.61  \n",
       "178     Oathbreaker, Last Hope of the Breaking Storm          50.76       4.23  \n",
       "82      Nirvana                                               44.10       4.90  \n",
       "145     Fiery Glass Crusader                                  41.22       4.58  \n",
       "103     Singed Scalpel                                        34.80       4.35  "
      ]
     },
     "execution_count": 21,
     "metadata": {},
     "output_type": "execute_result"
    }
   ],
   "source": [
    "df5 = df4.sort_values(by=['Total_Revenue'], ascending=False)\n",
    "df5.head(5)"
   ]
  },
  {
   "cell_type": "markdown",
   "metadata": {},
   "source": [
    "## Written Analysis"
   ]
  },
  {
   "cell_type": "markdown",
   "metadata": {},
   "source": [
    "1. Top 5 highest grossing, and top 5 most purchased, reflect the same top items. This suggests low variance over the purchase count by item distribution. This indicates price optimization across items, because mis-pricing would reveal differences between top 5 by revenue and top 5 most purchased, as very low priced items would rise in quantity purchased, while very high priced items would be purchased less frequently. \n",
    "\n",
    "2. Demographics show that most of the players are male. Age range distribution peaks over 15-25 years of age. This indicates the game appeals most to young male players. \n",
    "\n",
    "3. Total Revenue by age and gender reveal similar trends. This points to a low variance across avgerage revenue per player, regardless of demographic profile. This points to potential opportunity in attracting a larger following by increasing the appeal of the game to females or underrepresented age groups. These demographics would be the easiest to target, and since average revenue per player is very similar, would be the best way to grow revenue.  "
   ]
  },
  {
   "cell_type": "code",
   "execution_count": null,
   "metadata": {},
   "outputs": [],
   "source": []
  }
 ],
 "metadata": {
  "anaconda-cloud": {},
  "kernel_info": {
   "name": "python3"
  },
  "kernelspec": {
   "display_name": "Python 3",
   "language": "python",
   "name": "python3"
  },
  "language_info": {
   "codemirror_mode": {
    "name": "ipython",
    "version": 3
   },
   "file_extension": ".py",
   "mimetype": "text/x-python",
   "name": "python",
   "nbconvert_exporter": "python",
   "pygments_lexer": "ipython3",
   "version": "3.8.3"
  },
  "latex_envs": {
   "LaTeX_envs_menu_present": true,
   "autoclose": false,
   "autocomplete": true,
   "bibliofile": "biblio.bib",
   "cite_by": "apalike",
   "current_citInitial": 1,
   "eqLabelWithNumbers": true,
   "eqNumInitial": 1,
   "hotkeys": {
    "equation": "Ctrl-E",
    "itemize": "Ctrl-I"
   },
   "labels_anchors": false,
   "latex_user_defs": false,
   "report_style_numbering": false,
   "user_envs_cfg": false
  },
  "nteract": {
   "version": "0.2.0"
  }
 },
 "nbformat": 4,
 "nbformat_minor": 2
}
